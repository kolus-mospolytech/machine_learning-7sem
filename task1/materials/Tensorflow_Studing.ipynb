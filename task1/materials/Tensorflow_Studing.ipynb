{
 "cells": [
  {
   "cell_type": "markdown",
   "id": "86f86e03",
   "metadata": {},
   "source": [
    "# Tensorflow"
   ]
  },
  {
   "cell_type": "markdown",
   "id": "62f70c38",
   "metadata": {},
   "source": [
    "Tensorflow - поток тензоров. \n",
    "Тензоры — это многомерные массивы с единым типом (называемым dtype ).\n",
    "\n",
    "tf.constant(value, dtype = None, shape = None, name = \"Const\")\n",
    "- value - значения тензора;\n",
    "- dtype - тип данных тензора;\n",
    "- shape - размерность тензора;\n",
    "- name - имя тензора.\n",
    "\n",
    "Рассмотрим основные функции:"
   ]
  },
  {
   "cell_type": "code",
   "execution_count": 2,
   "id": "c9ac4e64",
   "metadata": {},
   "outputs": [
    {
     "name": "stdout",
     "output_type": "stream",
     "text": [
      "tf.Tensor(1, shape=(), dtype=int32)\n",
      "\n",
      "tf.Tensor([[1]], shape=(1, 1), dtype=int32)\n",
      "\n",
      "tf.Tensor([1 2 3 4], shape=(4,), dtype=int32)\n",
      "\n",
      "tf.Tensor(\n",
      "[[1. 2.]\n",
      " [3. 4.]\n",
      " [5. 6.]], shape=(3, 2), dtype=float16)\n",
      "\n"
     ]
    }
   ],
   "source": [
    "import tensorflow as tf\n",
    "import numpy as np\n",
    "\n",
    "a0 = tf.constant(1)\n",
    "a = tf.constant(1, shape = (1, 1)) #матрица размера 1х1\n",
    "b = tf.constant([1, 2, 3, 4]) #обычный список языка Python(т.е. просто вектор)\n",
    "c = tf.constant([[1, 2],\n",
    "                 [3, 4],\n",
    "                 [5, 6]], dtype = tf.float16)\n",
    "\n",
    "print(a0, a, b, c, sep = '\\n\\n', end = '\\n\\n')"
   ]
  },
  {
   "cell_type": "markdown",
   "id": "f9af5877",
   "metadata": {},
   "source": [
    "Тип данных тензора можно изменять при помощи функции tf.cast(tf.Tensor, dtype, name):"
   ]
  },
  {
   "cell_type": "code",
   "execution_count": 12,
   "id": "acf26abf",
   "metadata": {},
   "outputs": [
    {
     "name": "stdout",
     "output_type": "stream",
     "text": [
      "tf.Tensor([[1]], shape=(1, 1), dtype=int32)\n",
      "\n",
      "tf.Tensor([[1.]], shape=(1, 1), dtype=float32)\n",
      "\n"
     ]
    }
   ],
   "source": [
    "a1 = tf.cast(a, dtype = tf.float32)\n",
    "\n",
    "print(a, a1, sep = '\\n\\n', end = '\\n\\n')"
   ]
  },
  {
   "cell_type": "markdown",
   "id": "e1fe6160",
   "metadata": {},
   "source": [
    "В пакете Tensorflow тензоры построены по аналогии с многомерными матрицами пакета Numpy. Прибавление константы, умножение на константу, деление, сложение, возведение в степень, reshape, transponse, остаток от деления происходят точно так же.\n",
    "\n",
    "Любой тензор можно преобразовать в массив Numpy.\n",
    "Это можно сделать следующим образом:"
   ]
  },
  {
   "cell_type": "code",
   "execution_count": 13,
   "id": "4fd8e8d2",
   "metadata": {},
   "outputs": [
    {
     "name": "stdout",
     "output_type": "stream",
     "text": [
      "[1 2 3 4]\n",
      "\n"
     ]
    }
   ],
   "source": [
    "b1 = np.array(b)\n",
    "print(b1, end = '\\n\\n')"
   ]
  },
  {
   "cell_type": "markdown",
   "id": "0112b102",
   "metadata": {},
   "source": [
    "До этого были константные тензоры. Теперь научимся создавать изменяемые тензоры.\n",
    "Это делается с помощью функции tf.Variable():"
   ]
  },
  {
   "cell_type": "code",
   "execution_count": 14,
   "id": "47fa7fc2",
   "metadata": {},
   "outputs": [
    {
     "name": "stdout",
     "output_type": "stream",
     "text": [
      "<tf.Variable 'Variable:0' shape=() dtype=float32, numpy=-1.2>\n",
      "\n",
      "<tf.Variable 'Variable:0' shape=(4,) dtype=float32, numpy=array([4., 5., 6., 6.], dtype=float32)>\n",
      "\n",
      "<tf.Variable 'Variable:0' shape=(4,) dtype=int32, numpy=array([1, 2, 3, 4], dtype=int32)>\n",
      "\n"
     ]
    }
   ],
   "source": [
    "v1 = tf.Variable(-1.2)\n",
    "v2 = tf.Variable([4, 5, 6, 6], dtype = tf.float32)\n",
    "v3 = tf.Variable(b) # b = [1, 2, 3, 4]\n",
    "\n",
    "print(v1, v2, v3, sep = '\\n\\n', end = '\\n\\n')"
   ]
  },
  {
   "cell_type": "markdown",
   "id": "e7c57419",
   "metadata": {},
   "source": [
    "Для того чтобы изменять элементы тензора используется функция assign. Для поэлементного прибавления и вычитания значений тензора применяются функции assign_add, assign_sub. Размерность во всех случаях также должна совпадать!\n",
    "Примеры применения:"
   ]
  },
  {
   "cell_type": "code",
   "execution_count": 43,
   "id": "5b98f2d1",
   "metadata": {},
   "outputs": [
    {
     "name": "stdout",
     "output_type": "stream",
     "text": [
      "<tf.Variable 'Variable:0' shape=() dtype=float32, numpy=0.0>\n",
      "\n",
      "<tf.Variable 'Variable:0' shape=(4,) dtype=float32, numpy=array([5., 6., 7., 7.], dtype=float32)>\n",
      "\n",
      "<tf.Variable 'Variable:0' shape=(4,) dtype=int32, numpy=array([0, 1, 2, 3])>\n",
      "\n"
     ]
    }
   ],
   "source": [
    "v1.assign(0) \n",
    "v2.assign_add([1, 1, 1, 1]) #размерность должна совпадать!\n",
    "v3.assign_sub([1, 1, 1, 1]) \n",
    "\n",
    "print(v1, v2, v3, sep = '\\n\\n', end = '\\n\\n')"
   ]
  },
  {
   "cell_type": "markdown",
   "id": "be1b6cce",
   "metadata": {},
   "source": [
    "## Индексирование и срезы"
   ]
  },
  {
   "cell_type": "code",
   "execution_count": 44,
   "id": "7b3e6bc8",
   "metadata": {},
   "outputs": [
    {
     "name": "stdout",
     "output_type": "stream",
     "text": [
      "<tf.Variable 'Variable:0' shape=(4,) dtype=int32, numpy=array([0, 1, 2, 3])>\n",
      "\n",
      "tf.Tensor(0, shape=(), dtype=int32)\n",
      "\n",
      "tf.Tensor([1 2], shape=(2,), dtype=int32)\n",
      "\n"
     ]
    }
   ],
   "source": [
    "print(v3, v3[0], v3[1:3], sep = '\\n\\n', end = '\\n\\n')"
   ]
  },
  {
   "cell_type": "markdown",
   "id": "0b649a46",
   "metadata": {},
   "source": [
    "Примечание. Срез это не копия тензора - он ссылается на те же данные. => если изменить элемент в срезе, он изменится и в исходном тензоре. Пример:"
   ]
  },
  {
   "cell_type": "code",
   "execution_count": 45,
   "id": "dca2b6d3",
   "metadata": {},
   "outputs": [
    {
     "name": "stdout",
     "output_type": "stream",
     "text": [
      "<tf.Variable 'Variable:0' shape=(4,) dtype=int32, numpy=array([0, 1, 2, 3])>\n",
      "\n",
      "<tf.Variable 'Variable:0' shape=(4,) dtype=int32, numpy=array([0, 1, 0, 0])>\n",
      "\n"
     ]
    }
   ],
   "source": [
    "print(v3, end = '\\n\\n')\n",
    "\n",
    "v3[2:4].assign([0, 0])\n",
    "print(v3, end = '\\n\\n')\n"
   ]
  },
  {
   "cell_type": "markdown",
   "id": "cb975216",
   "metadata": {},
   "source": [
    "Можно создать новый тензор по индексам другого тензора с помощью функции tf.gather: "
   ]
  },
  {
   "cell_type": "code",
   "execution_count": 62,
   "id": "ced77479",
   "metadata": {},
   "outputs": [
    {
     "name": "stdout",
     "output_type": "stream",
     "text": [
      "tf.Tensor([-5 -4 -3 -2 -1  0  1  2  3  4], shape=(10,), dtype=int32)\n",
      "\n",
      "tf.Tensor([-5 -3 -1  1  3], shape=(5,), dtype=int32)\n",
      "\n"
     ]
    }
   ],
   "source": [
    "x = tf.constant(range(10)) - 5 #Смотри операции в туториале по Numpy\n",
    "idx = range(0, 10, 2) \n",
    "x_new = tf.gather(x, idx)\n",
    "print(x, x_new, sep = '\\n\\n', end = '\\n\\n')"
   ]
  },
  {
   "cell_type": "markdown",
   "id": "90e31733",
   "metadata": {},
   "source": [
    "Обращение к элементам тензора:"
   ]
  },
  {
   "cell_type": "code",
   "execution_count": 3,
   "id": "0637f9e6",
   "metadata": {},
   "outputs": [
    {
     "name": "stdout",
     "output_type": "stream",
     "text": [
      "tf.Tensor(\n",
      "[[ 1  2  3]\n",
      " [ 4  5  6]\n",
      " [ 5  6  9]\n",
      " [10 11 12]\n",
      " [13 14 15]\n",
      " [16 17 18]], shape=(6, 3), dtype=int32)\n",
      "\n",
      "tf.Tensor(6, shape=(), dtype=int32)\n",
      "\n",
      "tf.Tensor(2, shape=(), dtype=int32)\n",
      "\n",
      "tf.Tensor([ 2  5  6 11 14 17], shape=(6,), dtype=int32)\n",
      "\n",
      "tf.Tensor([ 2  6 14], shape=(3,), dtype=int32)\n",
      "\n"
     ]
    }
   ],
   "source": [
    "e = tf.constant([[1, 2, 3], [4, 5, 6], [5, 6, 9], [10, 11, 12], [13, 14, 15], [16, 17, 18]])\n",
    "\n",
    "val1 = e[(1, 2)] #Представьте матрицу. Первое значение - номер строки, второе значение - номер столбца.\n",
    "val2 = e[0][1] # Так же, как в случае с val1\n",
    "val3 = e[:, 1] # \":\" как в range, т.е. start:stop:step\n",
    "val4 = e[:5:2,1] # такое же понимание как в range\n",
    "\n",
    "print(e, val1, val2, val3, val4, sep = '\\n\\n', end = '\\n\\n')\n",
    "\n",
    "#Такое же индексирование в Numpy"
   ]
  },
  {
   "cell_type": "markdown",
   "id": "bae1836d",
   "metadata": {},
   "source": [
    " # Математические операции и функции над тензорами."
   ]
  },
  {
   "attachments": {
    "image-4.png": {
     "image/png": "[encoded data removed]"
    }
   },
   "cell_type": "markdown",
   "id": "d56c6110",
   "metadata": {},
   "source": [
    "## Функции автозаполнения.\n",
    "\n",
    "![image-4.png](attachment:image-4.png)"
   ]
  },
  {
   "cell_type": "code",
   "execution_count": 75,
   "id": "d2edb803",
   "metadata": {},
   "outputs": [
    {
     "name": "stdout",
     "output_type": "stream",
     "text": [
      "tf.Tensor(\n",
      "[[0. 0. 0.]\n",
      " [0. 0. 0.]\n",
      " [0. 0. 0.]], shape=(3, 3), dtype=float32)\n",
      "\n",
      "tf.Tensor(\n",
      "[[1. 1. 1.]\n",
      " [1. 1. 1.]], shape=(2, 3), dtype=float32)\n",
      "\n",
      "tf.Tensor(\n",
      "[[1. 1. 1.]\n",
      " [1. 1. 1.]\n",
      " [1. 1. 1.]], shape=(3, 3), dtype=float32)\n",
      "\n",
      "tf.Tensor(\n",
      "[[1. 0. 0.]\n",
      " [0. 1. 0.]\n",
      " [0. 0. 1.]], shape=(3, 3), dtype=float32)\n",
      "\n",
      "tf.Tensor(\n",
      "[[1. 0.]\n",
      " [0. 1.]\n",
      " [0. 0.]], shape=(3, 2), dtype=float32)\n",
      "\n",
      "tf.Tensor(\n",
      "[[1. 1. 1.]\n",
      " [1. 1. 1.]\n",
      " [1. 1. 1.]], shape=(3, 3), dtype=float32)\n",
      "\n",
      "tf.Tensor(\n",
      "[[-1 -1 -1]\n",
      " [-1 -1 -1]], shape=(2, 3), dtype=int32)\n",
      "\n",
      "tf.Tensor(\n",
      "[ 1.         1.2        1.4000001  1.6000001  1.8000002  2.0000002\n",
      "  2.2000003  2.4000003  2.6000004  2.8000004  3.0000005  3.2000005\n",
      "  3.4000006  3.6000006  3.8000007  4.0000005  4.2000003  4.4\n",
      "  4.6        4.7999997  4.9999995  5.1999993  5.399999   5.599999\n",
      "  5.7999988  5.9999986  6.1999984  6.399998   6.599998   6.799998\n",
      "  6.9999976  7.1999974  7.399997   7.599997   7.799997   7.9999967\n",
      "  8.199997   8.399997   8.599997   8.799996   8.999996   9.199996\n",
      "  9.399996   9.599996   9.799995   9.999995  10.199995  10.399995\n",
      " 10.599995  10.799994 ], shape=(50,), dtype=float32)\n",
      "\n"
     ]
    }
   ],
   "source": [
    "a = tf.zeros((3,3)) \n",
    "b = tf.ones((2,3))\n",
    "c = tf.ones_like(a) # просто определяет форму и тип тензора а и выдает матрицу единиц. Аналогично zeros_like(tensor_name)\n",
    "d0 = tf.eye(3)\n",
    "d1 = tf.eye(3, 2)\n",
    "e = tf.identity(c) \n",
    "f = tf.fill((2, 3), -1) \n",
    "g = tf.range(1, 11, 0.2)\n",
    "\n",
    "print(a, b, c, d0, d1, e, f, g, sep = \"\\n\\n\", end = '\\n\\n')"
   ]
  },
  {
   "attachments": {
    "image.png": {
     "image/png": "[encoded data removed]"
    }
   },
   "cell_type": "markdown",
   "id": "b8e15178",
   "metadata": {},
   "source": [
    "## Генерация случайных чисел.\n",
    "![image.png](attachment:image.png)"
   ]
  },
  {
   "cell_type": "code",
   "execution_count": 79,
   "id": "def6c8fd",
   "metadata": {},
   "outputs": [
    {
     "name": "stdout",
     "output_type": "stream",
     "text": [
      "tf.Tensor(\n",
      "[[ 0.04030879 -0.10880208 -0.00630954  0.13365567]\n",
      " [ 0.07117601 -0.04892864 -0.07642213 -0.10372486]], shape=(2, 4), dtype=float32)\n",
      "\n",
      "tf.Tensor(\n",
      "[[ 0.6585548   0.26845598]\n",
      " [ 0.02945518 -0.21783829]], shape=(2, 2), dtype=float32)\n",
      "\n",
      "tf.Tensor([8 4 7 5 0 2 3 9 1 6], shape=(10,), dtype=int32)\n",
      "\n",
      "tf.Tensor([[-0.9532663 -0.9100726 -1.0782624 -0.8757098 -0.819652 ]], shape=(1, 5), dtype=float32)\n",
      "\n",
      "tf.Tensor([[-0.9532663 -0.9100726 -1.0782624 -0.8757098 -0.819652 ]], shape=(1, 5), dtype=float32)\n",
      "\n"
     ]
    }
   ],
   "source": [
    "a = tf.random.normal((2, 4), 0, 0.1)  # тензор 2x4 с нормальными СВ\n",
    "b = tf.random.uniform((2, 2), -1, 1)  # тензор 2x2 с равномерными СВ в диапазоне [-1; 1]\n",
    "c = tf.random.shuffle(range(10))  # перемешивание последовательности чисел\n",
    "tf.random.set_seed(13)  # установка зерна датчика случайных чисел\n",
    "d = tf.random.truncated_normal((1, 5), -1, 0.1)  # тензор 1x5 с ограниченными нормальными СВ\n",
    "tf.random.set_seed(13)\n",
    "e = tf.random.truncated_normal((1, 5), -1, 0.1)\n",
    "print(a, b, c, d, e, sep = \"\\n\\n\", end = '\\n\\n')"
   ]
  },
  {
   "cell_type": "markdown",
   "id": "55fbeca1",
   "metadata": {},
   "source": [
    "## Математические операции."
   ]
  },
  {
   "cell_type": "code",
   "execution_count": 5,
   "id": "954e8d0a",
   "metadata": {},
   "outputs": [
    {
     "name": "stdout",
     "output_type": "stream",
     "text": [
      "tf.Tensor([1 2 3], shape=(3,), dtype=int32)\n",
      "\n",
      "tf.Tensor([9 8 7], shape=(3,), dtype=int32)\n",
      "\n"
     ]
    }
   ],
   "source": [
    "a = tf.constant([1, 2, 3])\n",
    "b = tf.constant([9, 8, 7])\n",
    "print(a, b, sep=\"\\n\\n\", end=\"\\n\\n\")"
   ]
  },
  {
   "cell_type": "code",
   "execution_count": 6,
   "id": "2b088b90",
   "metadata": {},
   "outputs": [
    {
     "name": "stdout",
     "output_type": "stream",
     "text": [
      "Операция tf.add(a, b):\n",
      "tf.Tensor([10 10 10], shape=(3,), dtype=int32)\n",
      "Операция a + b:\n",
      "tf.Tensor([10 10 10], shape=(3,), dtype=int32)\n",
      "\n",
      "\n",
      "Операция tf.subtract(a, b):\n",
      "tf.Tensor([-8 -6 -4], shape=(3,), dtype=int32)\n",
      "Операция a - b:\n",
      "tf.Tensor([-8 -6 -4], shape=(3,), dtype=int32)\n",
      "\n",
      "\n",
      "Операция tf.divide(a, b):\n",
      "tf.Tensor([0.11111111 0.25       0.42857143], shape=(3,), dtype=float64)\n",
      "Операция a / b:\n",
      "tf.Tensor([0.11111111 0.25       0.42857143], shape=(3,), dtype=float64)\n",
      "\n",
      "\n",
      "Операция tf.multiply(a, b):\n",
      "tf.Tensor([ 9 16 21], shape=(3,), dtype=int32)\n",
      "Операция a * b:\n",
      "tf.Tensor([ 9 16 21], shape=(3,), dtype=int32)\n",
      "\n",
      "\n",
      "Операция a ** 2:\n",
      "tf.Tensor([1 4 9], shape=(3,), dtype=int32)\n",
      "\n",
      "\n",
      "Внешнее умножение tf.tensordot(a, b, axes=0):\n",
      "tf.Tensor(\n",
      "[[ 9  8  7]\n",
      " [18 16 14]\n",
      " [27 24 21]], shape=(3, 3), dtype=int32)\n",
      "Внутреннее умножение tf.tensordot(a, b, axes=1):\n",
      "tf.Tensor(46, shape=(), dtype=int32)\n",
      "\n",
      "\n",
      "a2\n",
      "tf.Tensor(\n",
      "[[1 2 3]\n",
      " [4 5 6]\n",
      " [7 8 9]], shape=(3, 3), dtype=int32)\n",
      "b2\n",
      "tf.Tensor(\n",
      "[[ 5  6  7]\n",
      " [ 8  9 10]\n",
      " [11 12 13]], shape=(3, 3), dtype=int32)\n",
      "\n",
      "\n",
      "Матричное умножение tf.matmul(a2, b2):\n",
      "tf.Tensor(\n",
      "[[ 54  60  66]\n",
      " [126 141 156]\n",
      " [198 222 246]], shape=(3, 3), dtype=int32)\n",
      "Матричное умножение a2 @ b2:\n",
      "tf.Tensor(\n",
      "[[ 54  60  66]\n",
      " [126 141 156]\n",
      " [198 222 246]], shape=(3, 3), dtype=int32)\n",
      "\n",
      "\n"
     ]
    }
   ],
   "source": [
    "o1 = tf.add(a, b)       # сложение\n",
    "o2 = a + b              # сложение\n",
    "print('Операция tf.add(a, b):', o1, 'Операция a + b:', o2, sep = '\\n', end = '\\n\\n\\n')\n",
    "\n",
    "o3 = tf.subtract(a, b)  # вычитание\n",
    "o4 = a - b              # вычитание\n",
    "print('Операция tf.subtract(a, b):', o3, 'Операция a - b:', o4, sep = '\\n', end = '\\n\\n\\n')\n",
    "\n",
    "o5 = tf.divide(a, b)    # деление (поэлементное)\n",
    "o6 = a / b              # деление (поэлементное)\n",
    "print('Операция tf.divide(a, b):', o5, 'Операция a / b:', o6, sep = '\\n', end = '\\n\\n\\n')\n",
    "\n",
    "o7 = tf.multiply(a, b)  # умножение (поэлементное)\n",
    "o8 = a * b              # умножение (поэлементное)\n",
    "print('Операция tf.multiply(a, b):', o7, 'Операция a * b:', o8, sep = '\\n', end = '\\n\\n\\n')\n",
    "\n",
    "o9 = a ** 2             # возведение в степень (поэлементное)\n",
    "print('Операция a ** 2:', o9, sep = '\\n', end = '\\n\\n\\n')\n",
    "\n",
    "o10 = tf.tensordot(a, b, axes=0) # векторное внешнее умножение\n",
    "o11 = tf.tensordot(a, b, axes=1) # векторное внутреннее умножение\n",
    "print('Внешнее умножение tf.tensordot(a, b, axes=0):', o10, \n",
    "      'Внутреннее умножение tf.tensordot(a, b, axes=1):', o11, sep = '\\n', end = '\\n\\n\\n')\n",
    "\n",
    "a2 = tf.constant(tf.range(1, 10), shape=(3, 3))\n",
    "b2 = tf.constant(tf.range(5, 14), shape=(3, 3))\n",
    "print('a2', a2, 'b2', b2, sep = '\\n', end = '\\n\\n\\n')\n",
    " \n",
    "o12 = tf.matmul(a2, b2)  # матричное умножение\n",
    "o13 = a2 @ b2            # матричное умножение\n",
    "print('Матричное умножение tf.matmul(a2, b2):', o12, \n",
    "      'Матричное умножение a2 @ b2:', o13, sep = '\\n', end = '\\n\\n\\n')\n",
    "\n"
   ]
  },
  {
   "cell_type": "code",
   "execution_count": 8,
   "id": "087c1e83",
   "metadata": {},
   "outputs": [
    {
     "name": "stdout",
     "output_type": "stream",
     "text": [
      "Исходная матрица:\n",
      "tf.Tensor(\n",
      "[[ 9  8  7]\n",
      " [18 16 14]\n",
      " [27 24 21]], shape=(3, 3), dtype=int32)\n",
      "\n",
      "\n",
      "Операция tf.reduce_sum(tensor_name):\n",
      "tf.Tensor(144, shape=(), dtype=int32)\n",
      "Операция tf.reduce_sum(tensor_name, axis = 0):\n",
      "tf.Tensor([54 48 42], shape=(3,), dtype=int32)\n",
      "Операция tf.reduce_sum(tensor_name, axis = [0, 1]):\n",
      "tf.Tensor(144, shape=(), dtype=int32)\n",
      "\n",
      "\n",
      "Операция tf.reduce_mean(tensor_name):\n",
      "tf.Tensor(16, shape=(), dtype=int32)\n",
      "\n",
      "\n",
      "Операция tf.reduce_max(tensor_name, axis = 0):\n",
      "tf.Tensor([27 24 21], shape=(3,), dtype=int32)\n",
      "Операция tf.reduce_min(tensor_name, axis = 1):\n",
      "tf.Tensor([ 7 14 21], shape=(3,), dtype=int32)\n",
      "\n",
      "\n",
      "Операция tf.reduce_prod(tensor_name):\n",
      "tf.Tensor(1883394048, shape=(), dtype=int32)\n",
      "\n",
      "\n",
      "Операция tf.sqrt(tensor_name):\n",
      "tf.Tensor(\n",
      "[[3.        2.828427  2.6457512]\n",
      " [4.2426405 4.        3.7416575]\n",
      " [5.196152  4.8989797 4.582576 ]], shape=(3, 3), dtype=float32)\n",
      "Операция tf.square(tensor_name):\n",
      "tf.Tensor(\n",
      "[[ 81  64  49]\n",
      " [324 256 196]\n",
      " [729 576 441]], shape=(3, 3), dtype=int32)\n",
      "Операция tf.sin(tensor_name):\n",
      "tf.Tensor(\n",
      "[[3.        2.828427  2.6457512]\n",
      " [4.2426405 4.        3.7416575]\n",
      " [5.196152  4.8989797 4.582576 ]], shape=(3, 3), dtype=float32)\n",
      "Операция tf.cos(tensor_name):\n",
      "tf.Tensor(\n",
      "[[ 81  64  49]\n",
      " [324 256 196]\n",
      " [729 576 441]], shape=(3, 3), dtype=int32)\n",
      "\n",
      "\n"
     ]
    }
   ],
   "source": [
    "m = tf.tensordot(a, b, axes=0) \n",
    "print('Исходная матрица:', m, sep = '\\n', end = '\\n\\n\\n')\n",
    "\n",
    "o14 = tf.reduce_sum(o10) # вычисление суммы элементов (по всем осям)\n",
    "o15 = tf.reduce_sum(m, axis = 0)    # вычисление суммы элементов (при axis=0 суммируются строки)\n",
    "o16 = tf.reduce_sum(m, axis = [0, 1])    # вычисление суммы элементов (при axis=0 суммируются строки)\n",
    "print('Операция tf.reduce_sum(tensor_name):', o14,\n",
    "      'Операция tf.reduce_sum(tensor_name, axis = 0):', o15,\n",
    "      'Операция tf.reduce_sum(tensor_name, axis = [0, 1]):', o16,\n",
    "      sep = '\\n', end = '\\n\\n\\n')\n",
    "\n",
    "o17 = tf.reduce_mean(m)\t     # среднее арифметическое\n",
    "print('Операция tf.reduce_mean(tensor_name):', o17,\n",
    "      sep = '\\n', end = '\\n\\n\\n')\n",
    "\n",
    "o18 = tf.reduce_max(m, axis=0)      # максимальное по столбцам\n",
    "o19 = tf.reduce_min(m, axis=1)      # минимальное по строкам\n",
    "print('Операция tf.reduce_max(tensor_name, axis = 0):', o18,\n",
    "      'Операция tf.reduce_min(tensor_name, axis = 1):', o19,\n",
    "      sep = '\\n', end = '\\n\\n\\n')\n",
    "\n",
    "o20 = tf.reduce_prod(m)             # произведение значений элементов матрицы\n",
    "print('Операция tf.reduce_prod(tensor_name):', o20, sep = '\\n', end = '\\n\\n\\n')\n",
    "\n",
    "o21 = tf.sqrt(tf.cast(m, dtype=tf.float32))   # квадратный корень. работает только с вещественными типами! cast приводит к нужному типу\n",
    "o22 = tf.square(m)        # возведение в квадрат\n",
    "o23 = tf.sin(tf.range(-3.14, 3.14, 1))    # синус от значений тензора\n",
    "o24 = tf.cos(tf.range(-3.14, 3.14, 1))    # косинус от значений тензора\n",
    "print('Операция tf.sqrt(tensor_name):', o21,\n",
    "      'Операция tf.square(tensor_name):', o22,\n",
    "      'Операция tf.sin(tensor_name):', o21,\n",
    "      'Операция tf.cos(tensor_name):', o22,\n",
    "      sep = '\\n', end = '\\n\\n\\n')"
   ]
  },
  {
   "cell_type": "code",
   "execution_count": null,
   "id": "2cf91af1",
   "metadata": {},
   "outputs": [],
   "source": []
  },
  {
   "cell_type": "code",
   "execution_count": null,
   "id": "de7c1f65",
   "metadata": {},
   "outputs": [],
   "source": []
  },
  {
   "cell_type": "code",
   "execution_count": null,
   "id": "ba3fbe75",
   "metadata": {},
   "outputs": [],
   "source": []
  },
  {
   "cell_type": "code",
   "execution_count": null,
   "id": "0108a675",
   "metadata": {},
   "outputs": [],
   "source": []
  },
  {
   "cell_type": "code",
   "execution_count": null,
   "id": "bedbe0bc",
   "metadata": {},
   "outputs": [],
   "source": []
  }
 ],
 "metadata": {
  "kernelspec": {
   "display_name": "Python 3 (ipykernel)",
   "language": "python",
   "name": "python3"
  },
  "language_info": {
   "codemirror_mode": {
    "name": "ipython",
    "version": 3
   },
   "file_extension": ".py",
   "mimetype": "text/x-python",
   "name": "python",
   "nbconvert_exporter": "python",
   "pygments_lexer": "ipython3",
   "version": "3.9.12"
  }
 },
 "nbformat": 4,
 "nbformat_minor": 5
}
