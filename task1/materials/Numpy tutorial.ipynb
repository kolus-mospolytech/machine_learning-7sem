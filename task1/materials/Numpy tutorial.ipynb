{
 "cells": [
  {
   "cell_type": "markdown",
   "id": "439bd7c7",
   "metadata": {},
   "source": [
    "# Numpy tutorial"
   ]
  },
  {
   "cell_type": "markdown",
   "id": "16859efe",
   "metadata": {},
   "source": [
    "NumPy — это библиотека языка Python, добавляющая поддержку больших многомерных массивов и матриц, вместе с большой библиотекой высокоуровневых (и очень быстрых) математических функций для операций с этими массивами."
   ]
  },
  {
   "cell_type": "markdown",
   "id": "7cef5691",
   "metadata": {},
   "source": [
    "## Создание массивов"
   ]
  },
  {
   "cell_type": "markdown",
   "id": "45b27a6d",
   "metadata": {},
   "source": [
    "В NumPy существует много способов создать массив. Один из наиболее простых - создать массив из обычных списков или кортежей Python, используя функцию numpy.array():"
   ]
  },
  {
   "cell_type": "code",
   "execution_count": 1,
   "id": "56bea545",
   "metadata": {},
   "outputs": [
    {
     "name": "stdout",
     "output_type": "stream",
     "text": [
      "[1 2 3]\n",
      "\n",
      "<class 'numpy.ndarray'>\n",
      "\n"
     ]
    }
   ],
   "source": [
    "import numpy as np\n",
    "a = np.array([1, 2, 3])\n",
    "\n",
    "print(a, type(a), sep = '\\n\\n', end = '\\n\\n')"
   ]
  },
  {
   "cell_type": "markdown",
   "id": "70f6a82b",
   "metadata": {},
   "source": [
    "Можно переопределить тип в момент создания:"
   ]
  },
  {
   "cell_type": "code",
   "execution_count": 2,
   "id": "2cd4a9d3",
   "metadata": {},
   "outputs": [
    {
     "name": "stdout",
     "output_type": "stream",
     "text": [
      "[1.+0.j 2.+0.j 3.+0.j]\n",
      "<class 'numpy.complex128'>\n",
      "[1. 2. 3.]\n",
      "<class 'numpy.float64'>\n",
      "\n"
     ]
    }
   ],
   "source": [
    "import numpy as np\n",
    "a = np.array([1, 2, 3], dtype = complex)\n",
    "b = np.array([1, 2, 3], dtype = float)\n",
    "\n",
    "print(a, type(a[0]), b, type(b[0]), sep = '\\n', end = '\\n\\n')"
   ]
  },
  {
   "cell_type": "markdown",
   "id": "a74aab5d",
   "metadata": {},
   "source": [
    "Функция np.array() трансформирует вложенные последовательности в многомерные массивы. Тип элементов массива зависит от типа элементов исходной последовательности (но можно и переопределить его в момент создания)."
   ]
  },
  {
   "cell_type": "code",
   "execution_count": 3,
   "id": "b36c8b28",
   "metadata": {},
   "outputs": [
    {
     "name": "stdout",
     "output_type": "stream",
     "text": [
      "[[1.5 2.  3. ]\n",
      " [4.  5.  6. ]]\n",
      "\n"
     ]
    }
   ],
   "source": [
    "b = np.array([[1.5, 2, 3], [4, 5, 6]])\n",
    "print(b, end = '\\n\\n')"
   ]
  },
  {
   "cell_type": "markdown",
   "id": "8d13f720",
   "metadata": {},
   "source": [
    "Функция eye() создаёт единичную матрицу (двумерный массив).\n",
    "Функция zeros() создает массив из нулей, а функция ones() — массив из единиц. Обе функции принимают кортеж с размерами, и аргумент dtype:"
   ]
  },
  {
   "cell_type": "code",
   "execution_count": 3,
   "id": "424e6df6",
   "metadata": {},
   "outputs": [
    {
     "name": "stdout",
     "output_type": "stream",
     "text": [
      "[[0. 0. 0.]\n",
      " [0. 0. 0.]]\n",
      "\n",
      "[[[1 1 1]\n",
      "  [1 1 1]\n",
      "  [1 1 1]]\n",
      "\n",
      " [[1 1 1]\n",
      "  [1 1 1]\n",
      "  [1 1 1]]]\n",
      "\n",
      "[[1. 0. 0. 0.]\n",
      " [0. 1. 0. 0.]\n",
      " [0. 0. 1. 0.]\n",
      " [0. 0. 0. 1.]]\n",
      "\n"
     ]
    }
   ],
   "source": [
    "a = np.zeros((2, 3))\n",
    "b = np.ones((2, 3, 3), dtype = int)\n",
    "c = np.eye(4)\n",
    "\n",
    "print(a, b, c, sep = '\\n\\n', end = '\\n\\n')"
   ]
  },
  {
   "cell_type": "markdown",
   "id": "b0c66c92",
   "metadata": {},
   "source": [
    "Для создания последовательностей чисел, в NumPy имеется функция arange(), аналогичная встроенной в Python range(), только вместо списков она возвращает массивы, и принимает не только целые значения"
   ]
  },
  {
   "cell_type": "code",
   "execution_count": 88,
   "id": "c6679993",
   "metadata": {},
   "outputs": [
    {
     "name": "stdout",
     "output_type": "stream",
     "text": [
      "[10 15 20 25]\n",
      "\n",
      "[0.  0.1 0.2 0.3 0.4 0.5 0.6 0.7 0.8 0.9]\n",
      "\n"
     ]
    }
   ],
   "source": [
    "a = np.arange(10, 30, 5)\n",
    "b = np.arange(0, 1, 0.1)\n",
    "print(a, b, sep = '\\n\\n', end = '\\n\\n')"
   ]
  },
  {
   "cell_type": "markdown",
   "id": "d7034393",
   "metadata": {},
   "source": [
    "При использовании arange() с аргументами типа float, сложно быть уверенным в том, сколько элементов будет получено (из-за ограничения точности чисел с плавающей запятой). Поэтому, в таких случаях обычно лучше использовать функцию linspace(), которая вместо шага в качестве одного из аргументов принимает число, равное количеству нужных элементов:"
   ]
  },
  {
   "cell_type": "code",
   "execution_count": 6,
   "id": "8a7ca536",
   "metadata": {},
   "outputs": [
    {
     "name": "stdout",
     "output_type": "stream",
     "text": [
      "[0.   0.25 0.5  0.75 1.   1.25 1.5  1.75 2.  ]\n",
      "\n"
     ]
    }
   ],
   "source": [
    "print(np.linspace(0, 2, 9), end = '\\n\\n')"
   ]
  },
  {
   "cell_type": "markdown",
   "id": "81ee4d25",
   "metadata": {},
   "source": [
    "fromfunction() применяет функцию ко всем комбинациям индексов:"
   ]
  },
  {
   "cell_type": "code",
   "execution_count": 7,
   "id": "11176cab",
   "metadata": {},
   "outputs": [
    {
     "name": "stdout",
     "output_type": "stream",
     "text": [
      "[[0. 1. 2. 3.]\n",
      " [3. 4. 5. 6.]\n",
      " [6. 7. 8. 9.]]\n",
      "\n"
     ]
    }
   ],
   "source": [
    "def f1(i, j):\n",
    "    return 3 * i + j\n",
    "\n",
    "print(np.fromfunction(f1, (3, 4)), end = '\\n\\n')"
   ]
  },
  {
   "cell_type": "markdown",
   "id": "5b186c78",
   "metadata": {},
   "source": [
    "# Базовые операции"
   ]
  },
  {
   "cell_type": "markdown",
   "id": "ef79c495",
   "metadata": {},
   "source": [
    "Математические операции над массивами выполняются поэлементно. Создается новый массив, который заполняется результатами действия оператора. Для таких операций необходимо, чтобы массивы были одного размера."
   ]
  },
  {
   "cell_type": "code",
   "execution_count": 7,
   "id": "dfeb05fe",
   "metadata": {},
   "outputs": [
    {
     "name": "stdout",
     "output_type": "stream",
     "text": [
      "[20 31 42 53]\n",
      "\n",
      "[20 29 38 47]\n",
      "\n",
      "[  0  30  80 150]\n",
      "\n",
      "[        inf 30.         20.         16.66666667]\n",
      "\n",
      "[     1     30   1600 125000]\n",
      "\n",
      "[0 0 0 2]\n",
      "\n",
      "[22 32 42 52]\n",
      "\n",
      "[ 60  90 120 150]\n",
      "\n",
      "[10. 15. 20. 25.]\n",
      "\n",
      "[2 0 1 2]\n",
      "\n",
      "[ 400  900 1600 2500]\n",
      "\n",
      "[ True False False False]\n",
      "\n"
     ]
    },
    {
     "name": "stderr",
     "output_type": "stream",
     "text": [
      "/tmp/ipykernel_13954/2076188221.py:10: RuntimeWarning: divide by zero encountered in divide\n",
      "  a / b, # При делении на 0 возвращается inf (бесконечность)\n",
      "/tmp/ipykernel_13954/2076188221.py:12: RuntimeWarning: divide by zero encountered in remainder\n",
      "  a % b, # При взятии остатка от деления на 0 возвращается 0\n"
     ]
    }
   ],
   "source": [
    "import numpy as np\n",
    "a = np.array([20, 30, 40, 50])\n",
    "b = np.arange(4)\n",
    "\n",
    "print( \n",
    "    #операции массива с массивами:\n",
    "    a + b, \n",
    "    a - b,\n",
    "    a * b,\n",
    "    a / b, # При делении на 0 возвращается inf (бесконечность)\n",
    "    a ** b,\n",
    "    a % b, # При взятии остатка от деления на 0 возвращается 0\n",
    "      \n",
    "      #операции массив с числами:\n",
    "    a + 2,\n",
    "    a * 3,\n",
    "    a / 2,\n",
    "    a % 3,\n",
    "    a ** 2,\n",
    "    a < 30,\n",
    "    sep = '\\n\\n', end = '\\n\\n')\n"
   ]
  },
  {
   "cell_type": "markdown",
   "id": "ccafc0b1",
   "metadata": {},
   "source": [
    "Существуют также функции над векторами, например, sin, cos, tan, maximum, minimum и др. Их список можно посмотреть по ссылке: https://numpy.org/doc/stable/reference/routines.math.html"
   ]
  },
  {
   "cell_type": "markdown",
   "id": "01e93d62",
   "metadata": {},
   "source": [
    "Одномерные массивы осуществляют операции индексирования, срезов и итераций очень схожим образом с обычными списками и другими последовательностями Python (разве что удалять с помощью срезов нельзя)."
   ]
  },
  {
   "cell_type": "code",
   "execution_count": 86,
   "id": "70629768",
   "metadata": {},
   "outputs": [
    {
     "name": "stdout",
     "output_type": "stream",
     "text": [
      "[  0   1   8  27  64 125 216 343 512 729]\n",
      "\n",
      "1\n",
      "\n",
      "[ 27  64 125 216]\n",
      "\n",
      "[  0   1   8   8   8   8   8 343 512 729]\n",
      "\n",
      "[729 512 343   8   8   8   8   8   1   0]\n",
      "\n",
      "0\n",
      "1\n",
      "2\n",
      "2\n",
      "2\n",
      "2\n",
      "2\n",
      "7\n",
      "8\n",
      "9\n",
      "\n"
     ]
    }
   ],
   "source": [
    "a = np.arange(10) ** 3\n",
    "print(a, a[1], a[3:7], sep = '\\n\\n', end = '\\n\\n')\n",
    "a[3:7] = 8\n",
    "print(a, a[:: -1], sep = '\\n\\n', end = '\\n\\n')\n",
    "\n",
    "for i in a:\n",
    "    print(round(i ** (1/3)))\n",
    "\n",
    "print()"
   ]
  },
  {
   "cell_type": "markdown",
   "id": "95240a8a",
   "metadata": {},
   "source": [
    "У многомерных массивов на каждую ось приходится один индекс."
   ]
  },
  {
   "cell_type": "code",
   "execution_count": 83,
   "id": "7b6afac5",
   "metadata": {},
   "outputs": [
    {
     "name": "stdout",
     "output_type": "stream",
     "text": [
      "23\n",
      "\n",
      "23\n",
      "\n",
      "23\n",
      "\n",
      "[ 2 12 22 32 42]\n",
      "\n",
      "[[ 0  1  2  3]\n",
      " [10 11 12 13]]\n",
      "\n",
      "[[10 11 12 13]\n",
      " [20 21 22 23]]\n",
      "\n",
      "[40 41 42 43]\n",
      "\n"
     ]
    }
   ],
   "source": [
    "b = np.array([[  0, 1, 2, 3],\n",
    "              [10, 11, 12, 13],\n",
    "               [20, 21, 22, 23],\n",
    "               [30, 31, 32, 33],\n",
    "               [40, 41, 42, 43]])\n",
    "print(\n",
    "    b[2,3],  \n",
    "    b[(2,3)],\n",
    "    b[2][3],\n",
    "    b[:,2],  \n",
    "    b[:2],  \n",
    "    b[1:3,:],\n",
    "    b[-1],  # Последняя строка. Эквивалентно b[-1,:]\n",
    "    sep = '\\n\\n', end = '\\n\\n')"
   ]
  },
  {
   "cell_type": "markdown",
   "id": "d99da0c1",
   "metadata": {},
   "source": [
    "У массива есть форма (shape), определяемая числом элементов вдоль каждой оси:"
   ]
  },
  {
   "cell_type": "code",
   "execution_count": 82,
   "id": "757c65d1",
   "metadata": {},
   "outputs": [
    {
     "name": "stdout",
     "output_type": "stream",
     "text": [
      "[[ 0  1  2  3  4]\n",
      " [ 5  6  7  8  9]\n",
      " [10 11 12 13 14]\n",
      " [15 16 17 18 19]]\n",
      "\n",
      "(4, 5)\n",
      "\n"
     ]
    }
   ],
   "source": [
    "print(a, a.shape, sep = '\\n\\n', end = '\\n\\n')"
   ]
  },
  {
   "cell_type": "markdown",
   "id": "a622c3bb",
   "metadata": {},
   "source": [
    "Форма массива может быть изменена с помощью различных команд:"
   ]
  },
  {
   "cell_type": "code",
   "execution_count": 81,
   "id": "84bf432c",
   "metadata": {},
   "outputs": [
    {
     "name": "stdout",
     "output_type": "stream",
     "text": [
      "[[ 0  1  2  3  4]\n",
      " [ 5  6  7  8  9]\n",
      " [10 11 12 13 14]\n",
      " [15 16 17 18 19]]\n",
      "\n",
      "(4, 5)\n",
      "\n",
      "[ 0  1  2  3  4  5  6  7  8  9 10 11 12 13 14 15 16 17 18 19]\n",
      "\n",
      "[[ 0  5 10 15]\n",
      " [ 1  6 11 16]\n",
      " [ 2  7 12 17]\n",
      " [ 3  8 13 18]\n",
      " [ 4  9 14 19]]\n",
      "\n",
      "[[ 0  1  2  3  4  5  6  7  8  9]\n",
      " [10 11 12 13 14 15 16 17 18 19]]\n",
      "\n"
     ]
    }
   ],
   "source": [
    "a = np.arange(20)\n",
    "a.shape = (4, 5) \n",
    "print(a, a.shape, a.ravel(), a.transpose(), a.reshape(2,10), sep = '\\n\\n', end = '\\n\\n')"
   ]
  },
  {
   "cell_type": "markdown",
   "id": "aeb4d635",
   "metadata": {},
   "source": [
    "Несколько массивов могут быть объединены вместе вдоль разных осей с помощью функций hstack и vstack.\n",
    "hstack() объединяет массивы по первым осям, vstack() — по последним:"
   ]
  },
  {
   "cell_type": "code",
   "execution_count": 93,
   "id": "4e4eb9fc",
   "metadata": {},
   "outputs": [
    {
     "name": "stdout",
     "output_type": "stream",
     "text": [
      "[[1 2]\n",
      " [3 4]]\n",
      "\n",
      "[[5 6]\n",
      " [7 8]]\n",
      "\n",
      "[[1 2]\n",
      " [3 4]\n",
      " [5 6]\n",
      " [7 8]]\n",
      "\n",
      "[[1 2 5 6]\n",
      " [3 4 7 8]]\n",
      "\n"
     ]
    }
   ],
   "source": [
    "a = np.array([[1, 2], [3, 4]])\n",
    "b = np.array([[5, 6], [7, 8]])\n",
    "print(a, b, np.vstack((a, b)), np.hstack((a, b)), sep = '\\n\\n', end = '\\n\\n')"
   ]
  },
  {
   "cell_type": "markdown",
   "id": "6d623dcc",
   "metadata": {},
   "source": [
    "Функция column_stack() объединяет одномерные массивы в качестве столбцов двумерного массива:"
   ]
  },
  {
   "cell_type": "code",
   "execution_count": 95,
   "id": "3bdbddd6",
   "metadata": {},
   "outputs": [
    {
     "name": "stdout",
     "output_type": "stream",
     "text": [
      "[[1 2 5 6]\n",
      " [3 4 7 8]]\n",
      "\n"
     ]
    }
   ],
   "source": [
    "print(np.column_stack((a, b)), end = '\\n\\n')"
   ]
  },
  {
   "cell_type": "markdown",
   "id": "d8735ce3",
   "metadata": {},
   "source": [
    "Используя hsplit() вы можете разбить массив вдоль горизонтальной оси, указав либо число возвращаемых массивов одинаковой формы, либо номера столбцов, после которых массив разрезается \"ножницами\":"
   ]
  },
  {
   "cell_type": "code",
   "execution_count": 119,
   "id": "ff60a25e",
   "metadata": {},
   "outputs": [
    {
     "name": "stdout",
     "output_type": "stream",
     "text": [
      "[[ 0  1  2  3  4  5]\n",
      " [ 6  7  8  9 10 11]]\n",
      "\n",
      "[array([[0, 1],\n",
      "       [6, 7]]), array([[2, 3],\n",
      "       [8, 9]]), array([[ 4,  5],\n",
      "       [10, 11]])]\n",
      "\n",
      "[array([[0, 1, 2],\n",
      "       [6, 7, 8]]), array([[3],\n",
      "       [9]]), array([[ 4,  5],\n",
      "       [10, 11]])]\n",
      "\n"
     ]
    }
   ],
   "source": [
    "a = np.arange(12).reshape((2, 6))\n",
    "print(a, np.hsplit(a, 3), np.hsplit(a, (3, 4)), sep = '\\n\\n', end = '\\n\\n')"
   ]
  },
  {
   "cell_type": "markdown",
   "id": "8b87aee3",
   "metadata": {},
   "source": [
    "## Копии и представления"
   ]
  },
  {
   "cell_type": "markdown",
   "id": "79b5dd89",
   "metadata": {},
   "source": [
    "При работе с массивами, их данные иногда необходимо копировать в другой массив, а иногда нет. Это часто является источником путаницы. Возможно 3 случая:"
   ]
  },
  {
   "cell_type": "code",
   "execution_count": 120,
   "id": "388e8df8",
   "metadata": {},
   "outputs": [
    {
     "name": "stdout",
     "output_type": "stream",
     "text": [
      "True\n",
      "\n",
      "(3, 4)\n",
      "\n"
     ]
    }
   ],
   "source": [
    "#Случай 1. Ссылочное присваивание.\n",
    "\n",
    "a = np.arange(12)\n",
    "b = a  # Нового объекта создано не было\n",
    "print(b is a, end = '\\n\\n')  # a и b это два имени для одного и того же объекта ndarray\n",
    "b.shape = (3,4)  # изменит форму a\n",
    "print(a.shape, end = '\\n\\n')"
   ]
  },
  {
   "cell_type": "code",
   "execution_count": 123,
   "id": "e9fad5fc",
   "metadata": {},
   "outputs": [
    {
     "name": "stdout",
     "output_type": "stream",
     "text": [
      "False\n",
      "\n",
      "True\n",
      "\n",
      "(3, 4)\n",
      "\n",
      "[[   0    1    2    3]\n",
      " [1234    5    6    7]\n",
      " [   8    9   10   11]]\n",
      "\n",
      "[[   0   10   10    3]\n",
      " [1234   10   10    7]\n",
      " [   8   10   10   11]]\n"
     ]
    }
   ],
   "source": [
    "#Случай 2. Представление данных.\n",
    "a = np.arange(12)\n",
    "a.shape = (3, 4)\n",
    "\n",
    "c = a.view()\n",
    "\n",
    "print(c is a, end = '\\n\\n')\n",
    "print(c.base is a, end = '\\n\\n')  # c это представление данных, принадлежащих a\n",
    "c.shape = (2,6)  # форма а не поменяется\n",
    "print(a.shape, end = '\\n\\n')\n",
    "c[0,4] = 1234  # данные а изменятся\n",
    "print(a, end = '\\n\\n')\n",
    "\n",
    "\n",
    "#Срез массива это представление:\n",
    "s = a[:,1:3]\n",
    "s[:] = 10\n",
    "print(a, end = '\\n\\n')"
   ]
  },
  {
   "cell_type": "code",
   "execution_count": 127,
   "id": "c7412cb0",
   "metadata": {},
   "outputs": [
    {
     "name": "stdout",
     "output_type": "stream",
     "text": [
      "False\n",
      "\n",
      "False\n",
      "\n",
      "[[ 0  1  2  3]\n",
      " [ 4  5  6  7]\n",
      " [ 8  9 10 11]]\n",
      "\n",
      "[[9999    1    2    3]\n",
      " [   4    5    6    7]\n",
      " [   8    9   10   11]]\n",
      "\n"
     ]
    }
   ],
   "source": [
    "#Случай 3. Полная копия.\n",
    "a = np.arange(12)\n",
    "a.shape = (3, 4)\n",
    "\n",
    "d = a.copy()  # создается новый объект массива с новыми данными\n",
    "print(d is a, end = '\\n\\n')\n",
    "print(d.base is a, end = '\\n\\n')  # d не имеет ничего общего с а\n",
    "d[0, 0] = 9999\n",
    "print(a, d, sep = '\\n\\n', end = '\\n\\n')"
   ]
  }
 ],
 "metadata": {
  "kernelspec": {
   "display_name": "Python 3 (ipykernel)",
   "language": "python",
   "name": "python3"
  },
  "language_info": {
   "codemirror_mode": {
    "name": "ipython",
    "version": 3
   },
   "file_extension": ".py",
   "mimetype": "text/x-python",
   "name": "python",
   "nbconvert_exporter": "python",
   "pygments_lexer": "ipython3",
   "version": "3.9.12"
  }
 },
 "nbformat": 4,
 "nbformat_minor": 5
}
