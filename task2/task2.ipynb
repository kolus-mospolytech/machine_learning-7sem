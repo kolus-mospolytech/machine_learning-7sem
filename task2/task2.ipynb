{
 "cells": [
  {
   "cell_type": "markdown",
   "source": [
    "Огородников Николай Александрович, группа 191-321\n",
    "# Task 2\n",
    "\n",
    "## KNN algorithm\n",
    "\n",
    "### Цель работы:\n",
    "\n",
    "Реализовать knn-алгоритм классификации\\регрессии.\n",
    "Произвести оценку качества модели.\n",
    "\n",
    "## Задание 1 (4 кластера)\n",
    "\n",
    "Пусть у нас имеется $N$ точек в $R_{[0, 10]}xR_{[0, 10]}$. Эти $N$ точек разделены на k кластеров: красные, синие, зеленые и др. Эти точки составляют собой тренировочную выборку данных. Необходимо подготовить тестовые данные и реализовать $knn$ алгоритм классификации для новых $0.1*N$, начертить вывести матрицу ошибок(confusion matrix) и оценку точности предсказания(accuracy score), показать работу алгоритма графически(вывести раскрашенные точки тренировочной выборки; вывести точки тестовой выборки с, определенным алгоритмом $knn$, цветом и окружностями, включающими $k$ ближайших соседей).\n",
    "\n",
    "## Этап 0\n",
    "Подготовьте данные для тестирования алгоритма.\n",
    "Необходимо подготовить тренировочные данные, чтобы можно было наблюдать видимое различие между разными сегментами.\n",
    "Например, красные точки лежат в левом нижнем углу квадрата $R_{[0, 10]}xR_{[0, 10]}$, синие по центру, зеленые в правом верхнем углу."
   ],
   "metadata": {
    "collapsed": false
   }
  },
  {
   "cell_type": "code",
   "execution_count": 23,
   "outputs": [
    {
     "data": {
      "text/plain": "<Figure size 640x480 with 1 Axes>",
      "image/png": "[encoded data removed]"
     },
     "metadata": {},
     "output_type": "display_data"
    }
   ],
   "source": [
    "import random\n",
    "\n",
    "import math\n",
    "import matplotlib.pyplot as plt\n",
    "import numpy as np\n",
    "\n",
    "k = 4  # количество кластеров\n",
    "n = 15  # точек в кластере\n",
    "r = 1  # радиус кластера\n",
    "min_pos = 2  # минимальная координата центра кластера\n",
    "max_pos = 8  # максимальная координата центра кластера\n",
    "\n",
    "dots = []\n",
    "cluster_pos = np.random.uniform(min_pos, max_pos, (k, 2))\n",
    "\n",
    "for i in range(k):\n",
    "    # вычисляем случайны цвет\n",
    "    color = \"#\" + ''.join([random.choice('0123456789ABCDEF') for k in range(6)])\n",
    "\n",
    "    for j in range(n):\n",
    "        # вычисляем случайный угол\n",
    "        alpha = 2 * math.pi * random.random()\n",
    "\n",
    "        # вычисляем случайный радиус\n",
    "        r_rand = r * math.sqrt(random.random())\n",
    "\n",
    "        # вычисляем координаты\n",
    "        x = r_rand * math.cos(alpha) + cluster_pos[i][0]\n",
    "        y = r_rand * math.sin(alpha) + cluster_pos[i][1]\n",
    "\n",
    "        dots.append([x, y, color])\n",
    "\n",
    "    # plt.scatter(cluster_x, cluster_y, s=1, color=color)\n",
    "\n",
    "dots = np.array(dots, dtype='O')\n",
    "\n",
    "plt.scatter(dots[:, 0], dots[:, 1], s=1, c=dots[:, 2])\n",
    "plt.xlim(-0.5, 10.5)\n",
    "plt.ylim(-0.5, 10.5)\n",
    "plt.show()"
   ],
   "metadata": {
    "collapsed": false
   }
  },
  {
   "cell_type": "markdown",
   "source": [
    "## Этап 1\n",
    "Создайте тестовую выборку точек с предопределенными значениями цвета.\n",
    "Используя евклидову метрику, найдите $k$ ближайших соседей к каждой точке, определите цвет в зависимости от доминирующего цвета соседних точек, нарисуйте окружность, в которую входят k соседних точек."
   ],
   "metadata": {
    "collapsed": false
   }
  },
  {
   "cell_type": "code",
   "execution_count": null,
   "outputs": [],
   "source": [],
   "metadata": {
    "collapsed": false
   }
  },
  {
   "cell_type": "markdown",
   "source": [
    "## Этап 2\n",
    "Оцените качество модели с использованием метрики accuracy score и выводом матрицы ошибок.\n"
   ],
   "metadata": {
    "collapsed": false
   }
  }
 ],
 "metadata": {
  "kernelspec": {
   "display_name": "Python 3",
   "language": "python",
   "name": "python3"
  },
  "language_info": {
   "codemirror_mode": {
    "name": "ipython",
    "version": 2
   },
   "file_extension": ".py",
   "mimetype": "text/x-python",
   "name": "python",
   "nbconvert_exporter": "python",
   "pygments_lexer": "ipython2",
   "version": "2.7.6"
  }
 },
 "nbformat": 4,
 "nbformat_minor": 0
}
