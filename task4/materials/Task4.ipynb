{
 "cells": [
  {
   "cell_type": "markdown",
   "id": "efc2ffb7",
   "metadata": {},
   "source": [
    "# Task 4."
   ]
  },
  {
   "cell_type": "markdown",
   "id": "0d3f1a14",
   "metadata": {},
   "source": [
    "Цели работы:\n",
    "    \n",
    "Научиться моделировать такие временные ряды с помощью нейросетевых моделей, как AR, AR(X). \n",
    "\n",
    "Найти достаточное количество скрытых слоев и количество нейронов в сети для обучения в задачах аппроксимации математических функций.\n",
    "\n",
    "Произвести оценку полученных результатов на тестовой выборке.\n",
    "\n"
   ]
  },
  {
   "cell_type": "markdown",
   "id": "49739f04",
   "metadata": {},
   "source": [
    "\n",
    "# AR - модель:\n",
    "         \n",
    "$y_{t-1}$ $\\rightarrow$ $\\quad$   |  $\\quad$нейронная $\\quad$ |\n",
    "\n",
    "$y_{t-2}$ $\\rightarrow$ $\\quad$   |$\\quad$ $\\quad$   сеть $\\quad$$\\quad$   | $\\rightarrow$ $\\quad$ $y_t$\n",
    "\n",
    "$y_{t-3}$ $\\rightarrow$ $\\quad$   |$\\quad $$\\quad$ $\\quad$$\\quad$$\\quad$$\\quad$|   \n"
   ]
  },
  {
   "cell_type": "markdown",
   "id": "c16bc638",
   "metadata": {},
   "source": [
    "\n",
    "# Задание 1.\n",
    "\n",
    "Реализовать и протестировать AR-модель на функции sin(x/2).\n"
   ]
  }
 ],
 "metadata": {
  "kernelspec": {
   "display_name": "Python 3 (ipykernel)",
   "language": "python",
   "name": "python3"
  },
  "language_info": {
   "codemirror_mode": {
    "name": "ipython",
    "version": 3
   },
   "file_extension": ".py",
   "mimetype": "text/x-python",
   "name": "python",
   "nbconvert_exporter": "python",
   "pygments_lexer": "ipython3",
   "version": "3.9.12"
  }
 },
 "nbformat": 4,
 "nbformat_minor": 5
}
