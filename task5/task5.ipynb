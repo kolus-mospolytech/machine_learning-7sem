{
 "cells": [
  {
   "cell_type": "markdown",
   "source": [
    "Огородников Николай Александрович, группа 191-321\n",
    "\n",
    "# Task 5.\n",
    "\n",
    "### Цель работы\n",
    "\n",
    "1. Научиться применять базовый функционал библиотеки Keras.\n",
    "2. Научиться моделировать сверточные нейронные сети для распознавания объектов на изображении.\n",
    "3. Ознакомиться с основными методами в работе со сверточными нейронными сетями.\n",
    "4. Ознакомиться с популярными архитектурными решениями для задач классификации изображений.\n",
    "\n",
    "### Задание\n",
    "\n",
    "#### 1. Импортировать набор данных Cifar10."
   ],
   "metadata": {
    "collapsed": false
   }
  },
  {
   "cell_type": "code",
   "execution_count": 20,
   "outputs": [
    {
     "name": "stdout",
     "output_type": "stream",
     "text": [
      "(50000, 32, 32, 3)\n"
     ]
    }
   ],
   "source": [
    "from keras.datasets import cifar10\n",
    "from keras.layers import Dense, Flatten, Dropout, Conv2D, MaxPooling2D\n",
    "from tensorflow import keras\n",
    "\n",
    "(x_train, y_train), (x_test, y_test) = cifar10.load_data()\n",
    "\n",
    "# стандартизация входных данных\n",
    "x_train = x_train / 255\n",
    "x_test = x_test / 255\n",
    "\n",
    "y_train = keras.utils.to_categorical(y_train, 10)\n",
    "y_test = keras.utils.to_categorical(y_test, 10)\n",
    "\n",
    "print(x_train.shape)"
   ],
   "metadata": {
    "collapsed": false
   }
  },
  {
   "cell_type": "markdown",
   "source": [
    "#### 2. Смоделировать сверточную нейронную сеть со значением метрики $accuracy\\geq70$."
   ],
   "metadata": {
    "collapsed": false
   }
  },
  {
   "cell_type": "code",
   "execution_count": 21,
   "outputs": [
    {
     "name": "stdout",
     "output_type": "stream",
     "text": [
      "Model: \"sequential_5\"\n",
      "_________________________________________________________________\n",
      " Layer (type)                Output Shape              Param #   \n",
      "=================================================================\n",
      " conv2d_20 (Conv2D)          (None, 32, 32, 32)        896       \n",
      "                                                                 \n",
      " conv2d_21 (Conv2D)          (None, 32, 32, 32)        9248      \n",
      "                                                                 \n",
      " max_pooling2d_10 (MaxPoolin  (None, 16, 16, 32)       0         \n",
      " g2D)                                                            \n",
      "                                                                 \n",
      " conv2d_22 (Conv2D)          (None, 16, 16, 64)        18496     \n",
      "                                                                 \n",
      " conv2d_23 (Conv2D)          (None, 16, 16, 64)        36928     \n",
      "                                                                 \n",
      " max_pooling2d_11 (MaxPoolin  (None, 8, 8, 64)         0         \n",
      " g2D)                                                            \n",
      "                                                                 \n",
      " flatten_5 (Flatten)         (None, 4096)              0         \n",
      "                                                                 \n",
      " dense_10 (Dense)            (None, 128)               524416    \n",
      "                                                                 \n",
      " dropout_5 (Dropout)         (None, 128)               0         \n",
      "                                                                 \n",
      " dense_11 (Dense)            (None, 10)                1290      \n",
      "                                                                 \n",
      "=================================================================\n",
      "Total params: 591,274\n",
      "Trainable params: 591,274\n",
      "Non-trainable params: 0\n",
      "_________________________________________________________________\n",
      "None\n"
     ]
    }
   ],
   "source": [
    "# 0.71 @ 8 epoch, 64 bath\n",
    "# model = keras.Sequential([\n",
    "#     Conv2D(64, (4, 4), padding='same', activation='relu', input_shape=(32, 32, 3)),\n",
    "#     MaxPooling2D((2, 2), strides=2),\n",
    "#\n",
    "#     Conv2D(128, (4, 4), padding='same', activation='relu'),\n",
    "#     MaxPooling2D((2, 2), strides=2),\n",
    "#\n",
    "#     Flatten(),\n",
    "#\n",
    "#     Dense(256, activation='relu'),\n",
    "#     Dense(10, activation='softmax')\n",
    "# ])\n",
    "\n",
    "# 0.75 @ 16 epoch, 32 bath\n",
    "model = keras.Sequential([\n",
    "    Conv2D(32, (3, 3), padding='same', activation='relu', input_shape=(32, 32, 3)),\n",
    "    Conv2D(32, (3, 3), padding='same', activation='relu'),\n",
    "    MaxPooling2D((2, 2), strides=2),\n",
    "\n",
    "    Conv2D(64, (3, 3), padding='same', activation='relu'),\n",
    "    Conv2D(64, (3, 3), padding='same', activation='relu'),\n",
    "    MaxPooling2D((2, 2), strides=2),\n",
    "\n",
    "    Flatten(),\n",
    "\n",
    "    Dense(128, activation='relu'),\n",
    "    Dropout(0.3),\n",
    "    Dense(10, activation='softmax')\n",
    "])\n",
    "\n",
    "print(model.summary())"
   ],
   "metadata": {
    "collapsed": false
   }
  },
  {
   "cell_type": "code",
   "execution_count": 22,
   "outputs": [
    {
     "name": "stdout",
     "output_type": "stream",
     "text": [
      "Epoch 1/16\n",
      "1407/1407 [==============================] - 34s 24ms/step - loss: 1.5351 - accuracy: 0.4394 - val_loss: 1.0997 - val_accuracy: 0.6048\n",
      "Epoch 2/16\n",
      "1407/1407 [==============================] - 34s 24ms/step - loss: 1.0982 - accuracy: 0.6110 - val_loss: 0.9001 - val_accuracy: 0.6830\n",
      "Epoch 3/16\n",
      "1407/1407 [==============================] - 32s 23ms/step - loss: 0.9149 - accuracy: 0.6774 - val_loss: 0.8331 - val_accuracy: 0.7122\n",
      "Epoch 4/16\n",
      "1407/1407 [==============================] - 32s 23ms/step - loss: 0.7949 - accuracy: 0.7180 - val_loss: 0.7360 - val_accuracy: 0.7482\n",
      "Epoch 5/16\n",
      "1407/1407 [==============================] - 32s 23ms/step - loss: 0.6935 - accuracy: 0.7556 - val_loss: 0.7163 - val_accuracy: 0.7588\n",
      "Epoch 6/16\n",
      "1407/1407 [==============================] - 33s 23ms/step - loss: 0.6147 - accuracy: 0.7830 - val_loss: 0.7663 - val_accuracy: 0.7448\n",
      "Epoch 7/16\n",
      "1407/1407 [==============================] - 35s 25ms/step - loss: 0.5503 - accuracy: 0.8026 - val_loss: 0.7628 - val_accuracy: 0.7514\n",
      "Epoch 8/16\n",
      "1407/1407 [==============================] - 34s 24ms/step - loss: 0.4898 - accuracy: 0.8243 - val_loss: 0.7656 - val_accuracy: 0.7484\n",
      "Epoch 9/16\n",
      "1407/1407 [==============================] - 34s 24ms/step - loss: 0.4357 - accuracy: 0.8426 - val_loss: 0.8616 - val_accuracy: 0.7390\n",
      "Epoch 10/16\n",
      "1407/1407 [==============================] - 35s 25ms/step - loss: 0.4031 - accuracy: 0.8554 - val_loss: 0.8619 - val_accuracy: 0.7578\n",
      "Epoch 11/16\n",
      "1407/1407 [==============================] - 35s 25ms/step - loss: 0.3668 - accuracy: 0.8681 - val_loss: 0.8291 - val_accuracy: 0.7656\n",
      "Epoch 12/16\n",
      "1407/1407 [==============================] - 35s 25ms/step - loss: 0.3327 - accuracy: 0.8780 - val_loss: 0.9354 - val_accuracy: 0.7566\n",
      "Epoch 13/16\n",
      "1407/1407 [==============================] - 35s 25ms/step - loss: 0.3084 - accuracy: 0.8877 - val_loss: 0.9703 - val_accuracy: 0.7574\n",
      "Epoch 14/16\n",
      "1407/1407 [==============================] - 35s 25ms/step - loss: 0.2885 - accuracy: 0.8962 - val_loss: 0.9834 - val_accuracy: 0.7512\n",
      "Epoch 15/16\n",
      "1407/1407 [==============================] - 35s 25ms/step - loss: 0.2697 - accuracy: 0.9019 - val_loss: 1.0142 - val_accuracy: 0.7482\n",
      "Epoch 16/16\n",
      "1407/1407 [==============================] - 33s 24ms/step - loss: 0.2652 - accuracy: 0.9044 - val_loss: 0.9505 - val_accuracy: 0.7638\n"
     ]
    }
   ],
   "source": [
    "model.compile(optimizer='adam',\n",
    "              loss='categorical_crossentropy',\n",
    "              metrics=['accuracy'])\n",
    "\n",
    "his = model.fit(x_train, y_train, batch_size=32, epochs=16, verbose=1, validation_split=0.1)"
   ],
   "metadata": {
    "collapsed": false
   }
  },
  {
   "cell_type": "code",
   "execution_count": 23,
   "outputs": [
    {
     "name": "stdout",
     "output_type": "stream",
     "text": [
      "313/313 [==============================] - 2s 5ms/step - loss: 1.0524 - accuracy: 0.7441\n"
     ]
    },
    {
     "data": {
      "text/plain": "[1.0524392127990723, 0.7440999746322632]"
     },
     "execution_count": 23,
     "metadata": {},
     "output_type": "execute_result"
    }
   ],
   "source": [
    "model.evaluate(x_test, y_test, verbose=1)"
   ],
   "metadata": {
    "collapsed": false
   }
  },
  {
   "cell_type": "markdown",
   "source": [],
   "metadata": {
    "collapsed": false
   }
  },
  {
   "cell_type": "markdown",
   "source": [
    "### Вывод\n",
    "\n",
    "\n",
    "В рамках задания была смоделирована сверточная нейронная сеть, изучен принципы её работы, найдено достаточное количество скрытых слоев и количество нейронов в сети для обучения в задачах распознавания объектов на изображении и проведена оценка точности модели. Также были рассмотрены основные методы в работе со сверточными нейронными сетями и популярные архитектурные решения для задач классификации изображений.\n",
    "\n",
    "В ходе решения была подготовлена импортирована выборка из пакета `cifar10`. Далее с помощью библиотеки `keras` была построена модель сверточной нейронной сети. Затем обученная модель была протестирована на точность с помощью тестовой выборки из пакета `cifar10`.\n",
    "\n",
    "На основе популярных архитектурных решений для задач классификации изображений была разработана нейронная сеть с точностью около 75%"
   ],
   "metadata": {
    "collapsed": false
   }
  }
 ],
 "metadata": {
  "kernelspec": {
   "display_name": "Python 3",
   "language": "python",
   "name": "python3"
  },
  "language_info": {
   "codemirror_mode": {
    "name": "ipython",
    "version": 2
   },
   "file_extension": ".py",
   "mimetype": "text/x-python",
   "name": "python",
   "nbconvert_exporter": "python",
   "pygments_lexer": "ipython2",
   "version": "2.7.6"
  }
 },
 "nbformat": 4,
 "nbformat_minor": 0
}
