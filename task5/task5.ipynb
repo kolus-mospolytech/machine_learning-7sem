{
 "cells": [
  {
   "cell_type": "markdown",
   "source": [
    "Огородников Николай Александрович, группа 191-321\n",
    "\n",
    "# Task 5.\n",
    "\n",
    "### Цель работы\n",
    "\n",
    "1. Научиться применять базовый функционал библиотеки Keras.\n",
    "2. Научиться моделировать сверточные нейронные сети для распознавания объектов на изображении.\n",
    "3. Ознакомиться с основными методами в работе со сверточными нейронными сетями.\n",
    "4. Ознакомиться с популярными архитектурными решениями для задач классификации изображений.\n",
    "\n",
    "### Задание.\n",
    "\n",
    "1. Импортировать набор данных Cifar10.\n",
    "2. Смоделировать сверточную нейронную сеть со значением метрики accuracy $\\geq$ 70.\n"
   ],
   "metadata": {
    "collapsed": false
   }
  }
 ],
 "metadata": {
  "kernelspec": {
   "display_name": "Python 3",
   "language": "python",
   "name": "python3"
  },
  "language_info": {
   "codemirror_mode": {
    "name": "ipython",
    "version": 2
   },
   "file_extension": ".py",
   "mimetype": "text/x-python",
   "name": "python",
   "nbconvert_exporter": "python",
   "pygments_lexer": "ipython2",
   "version": "2.7.6"
  }
 },
 "nbformat": 4,
 "nbformat_minor": 0
}
