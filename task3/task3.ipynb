{
 "cells": [
  {
   "cell_type": "markdown",
   "source": [
    "Огородников Николай Александрович, группа 191-321\n",
    "\n",
    "# Task 3\n",
    "\n",
    "## Neural networks\n",
    "\n",
    "### Цель работы\n",
    "\n",
    "Научиться моделировать нейронные сети типа перцептрон.\n",
    "Найти достаточное количество скрытых слоев и количество нейронов в сети для обучения в задачах аппроксимации математических функций.\n",
    "Произвести оценку полученных результатов на тестовой выборке.\n",
    "\n",
    "## Задание 1.\n",
    "\n",
    "Смоделировать и обучить нейросеть, аппроксимирующую функцию $y = \\sin\\left(\\[\\frac{x}{2}\\]\\right)$ на отрезке от 0 до 10. Изобразить точки обучающей выборки на графике. Произвести оценку полученных результатов на тестовой выборке."
   ],
   "metadata": {
    "collapsed": false
   }
  },
  {
   "cell_type": "code",
   "execution_count": null,
   "outputs": [],
   "source": [],
   "metadata": {
    "collapsed": false
   }
  }
 ],
 "metadata": {
  "kernelspec": {
   "display_name": "Python 3",
   "language": "python",
   "name": "python3"
  },
  "language_info": {
   "codemirror_mode": {
    "name": "ipython",
    "version": 2
   },
   "file_extension": ".py",
   "mimetype": "text/x-python",
   "name": "python",
   "nbconvert_exporter": "python",
   "pygments_lexer": "ipython2",
   "version": "2.7.6"
  }
 },
 "nbformat": 4,
 "nbformat_minor": 0
}
