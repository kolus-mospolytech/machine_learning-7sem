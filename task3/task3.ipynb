{
 "cells": [
  {
   "cell_type": "markdown",
   "source": [
    "Огородников Николай Александрович, группа 191-321\n",
    "\n",
    "# Task 3\n",
    "\n",
    "## Neural networks\n",
    "\n",
    "### Цель работы\n",
    "\n",
    "Научиться моделировать нейронные сети типа перцептрон.\n",
    "Найти достаточное количество скрытых слоев и количество нейронов в сети для обучения в задачах аппроксимации математических функций.\n",
    "Произвести оценку полученных результатов на тестовой выборке.\n",
    "\n",
    "## Задание 1.\n",
    "\n",
    "Смоделировать и обучить нейросеть, аппроксимирующую функцию $y = \\sin\\left(\\[\\frac{x}{2}\\]\\right)$ на отрезке от 0 до 10. Изобразить точки обучающей выборки на графике. Произвести оценку полученных результатов на тестовой выборке."
   ],
   "metadata": {
    "collapsed": false
   }
  },
  {
   "cell_type": "code",
   "execution_count": 69,
   "outputs": [
    {
     "data": {
      "text/plain": "<Figure size 640x480 with 1 Axes>",
      "image/png": "[encoded data removed]"
     },
     "metadata": {},
     "output_type": "display_data"
    }
   ],
   "source": [
    "import matplotlib.pyplot as plt\n",
    "import tensorflow as tf\n",
    "\n",
    "# создание обучающей выборки\n",
    "x_train = tf.random.uniform(minval=0, maxval=10, shape=(256, 1))\n",
    "y_train = tf.sin(x_train / 2)\n",
    "\n",
    "# вывод точек обучающей выборки\n",
    "plt.scatter(x_train, y_train, s=1, c='r')\n",
    "plt.show()"
   ],
   "metadata": {
    "collapsed": false
   }
  },
  {
   "cell_type": "code",
   "execution_count": 70,
   "outputs": [],
   "source": [
    "import os\n",
    "\n",
    "os.environ['TF_CPP_MIN_LOG_LEVEL'] = '2'\n",
    "\n",
    "\n",
    "# модель полносвязного слоя нейронной сети\n",
    "class DenseNN(tf.Module):\n",
    "    # конструктор\n",
    "    # outputs - количество нейронов (выходов) с полносвязного слоя\n",
    "    def __init__(self, outputs):\n",
    "        super().__init__()  # конструктор базового класса\n",
    "        self.outputs = outputs  # сохранение количества нейронов\n",
    "        self.fl_init = False  # флаг проведения инициализации\n",
    "\n",
    "    # делает из класса функтор\n",
    "    # x - вектор входных параметров\n",
    "    def __call__(self, x):\n",
    "        # начальные значения весовых параметров\n",
    "        if not self.fl_init:\n",
    "            # скрытые слои\n",
    "            # случайная нормальная величина\n",
    "            self.w1 = tf.Variable(tf.random.truncated_normal((x.shape[-1], self.outputs), stddev=0.1, name=\"w1\"))\n",
    "            self.b1 = tf.Variable(tf.zeros([self.outputs], dtype=tf.float32, name=\"b1\"))  # вектор смещения\n",
    "\n",
    "            # self.w2 = tf.Variable(tf.random.truncated_normal((self.outputs, self.outputs), stddev=0.1, name=\"w2\"))\n",
    "            # self.b2 = tf.Variable(tf.zeros([self.outputs], dtype=tf.float32, name=\"b2\"))\n",
    "            #\n",
    "            # self.w3 = tf.Variable(tf.random.truncated_normal((self.outputs, self.outputs), stddev=0.1, name=\"w3\"))\n",
    "            # self.b3 = tf.Variable(tf.zeros([self.outputs], dtype=tf.float32, name=\"b3\"))\n",
    "\n",
    "            # выходной слой\n",
    "            self.w4 = tf.Variable(tf.random.truncated_normal((self.outputs, 1), stddev=0.1, name=\"w4\"))\n",
    "            self.b4 = tf.Variable(tf.zeros([1], dtype=tf.float32, name=\"b4\"))\n",
    "\n",
    "            # предотвращаем повторную инициализацию\n",
    "            self.fl_init = True\n",
    "\n",
    "        # вычисляем выходное значение\n",
    "        # для скрытого слоя - гиперболический тангенс\n",
    "        # для выходного - линейная\n",
    "        # y = tf.nn.tanh(\n",
    "        #     tf.nn.tanh(tf.nn.tanh(x @ self.w1 + self.b1) @ self.w2 + self.b2) @ self.w3 + self.b3) @ self.w4 + self.b4\n",
    "        y = tf.nn.tanh(x @ self.w1 + self.b1) @ self.w4 + self.b4\n",
    "        return y"
   ],
   "metadata": {
    "collapsed": false
   }
  },
  {
   "cell_type": "code",
   "execution_count": 71,
   "outputs": [
    {
     "name": "stdout",
     "output_type": "stream",
     "text": [
      "32   0.23077697\n",
      "31   0.06743229\n",
      "30   0.0006271882\n",
      "29   0.014892955\n",
      "28   0.017793642\n",
      "27   0.01401768\n",
      "26   0.009422928\n",
      "25   0.0054471744\n",
      "24   0.0025029643\n",
      "23   0.00074566755\n",
      "22   5.7951467e-05\n",
      "21   5.556801e-05\n",
      "20   0.00030679206\n",
      "19   0.0005484004\n",
      "18   0.00070644444\n",
      "17   0.0008010209\n",
      "16   0.0008680574\n",
      "15   0.00093177374\n",
      "14   0.0010047852\n",
      "13   0.0010930158\n",
      "12   0.0011959985\n",
      "11   0.0013047791\n",
      "10   0.0014025974\n",
      "9   0.0014746282\n",
      "8   0.0015221745\n",
      "7   0.0015637645\n",
      "6   0.0016212577\n",
      "5   0.0016929084\n",
      "4   0.0017003915\n",
      "3   0.0014276382\n",
      "2   0.0006414915\n",
      "1   1.6929182e-05\n"
     ]
    }
   ],
   "source": [
    "model = DenseNN(4)\n",
    "\n",
    "# функция потерь\n",
    "loss = lambda x, y: tf.reduce_mean(tf.square(x - y))  # квадрат рассогласования между требуемым и получившимся выходом\n",
    "opt = tf.optimizers.Adam(learning_rate=0.01)  # оптимизатор для градиентного спуска\n",
    "\n",
    "EPOCHS = 32  # количество итераций алгоритма\n",
    "for n in range(EPOCHS):\n",
    "    # перебор обучающего множества\n",
    "    for x, y in zip(x_train, y_train):\n",
    "        x = tf.expand_dims(x, axis=0)  # преобразование в матрицу 1 на количество наблюдений\n",
    "        y = tf.constant(y, shape=(1, 1))  # преобразование в матрицу 1 на 1\n",
    "\n",
    "        with tf.GradientTape() as tape:\n",
    "            f_loss = loss(y, model(x))\n",
    "\n",
    "        # вычисление градиентов по всем обучаемым параметрам модели\n",
    "        grads = tape.gradient(f_loss, model.trainable_variables)\n",
    "        opt.apply_gradients(zip(grads, model.trainable_variables))\n",
    "\n",
    "    print(EPOCHS - n, ' ', f_loss.numpy())\n",
    "\n",
    "# print(model.trainable_variables)"
   ],
   "metadata": {
    "collapsed": false
   }
  },
  {
   "cell_type": "code",
   "execution_count": 72,
   "outputs": [
    {
     "data": {
      "text/plain": "<Figure size 640x480 with 1 Axes>",
      "image/png": "[encoded data removed]"
     },
     "metadata": {},
     "output_type": "display_data"
    }
   ],
   "source": [
    "y_test = model(x_train)\n",
    "\n",
    "# accuracy = tf.keras.metrics.Accuracy()\n",
    "# accuracy.update_state(y_train, y_test)\n",
    "\n",
    "# print(y_train.numpy())\n",
    "# print(y_test.numpy())\n",
    "# print('Mean accuracy: %.3f%%\\n' % (accuracy.result().numpy() * 100))\n",
    "# print('Confusion matrix SKlearn:\\n', matrix, '\\n')\n",
    "\n",
    "plt.scatter(x_train, y_train, s=1, c='r')\n",
    "plt.scatter(x_train, y_test, s=1, c='b')\n",
    "plt.show()"
   ],
   "metadata": {
    "collapsed": false
   }
  },
  {
   "cell_type": "markdown",
   "source": [
    "### Вывод\n",
    "\n",
    "\n",
    "В рамках задания была смоделирована нейронная сеть типа перцептрон, изучен принципы её работы, найдено достаточное количество скрытых слоев и количество нейронов в сети для обучения в задачах аппроксимации математической функции $y = \\sin\\left(\\[\\frac{x}{2}\\]\\right)$ и проведена оценка качества модели, с помощью вывода графика аппроксимируемой функции и графика обученной нейронной сети.\n",
    "\n",
    "В ходе решения была подготовлена искусственная выборка для проверки алгоритма, состоящая из 256 случайных распределенных значений функции $y = \\sin\\left(\\[\\frac{x}{2}\\]\\right)$. Далее была построена модель нейронной сети, состоящей из 1 скрытого слоя и 1 выходного слоя, активационная функция скрытого слоя - гиперболический тангенс, выходного - линейная. После был реализован алгоритм обучения с оптимизатором Adam, за его вычислительную эффективность. Процесс обучения для модели из 4 нейронов состоял из 16 эпох (итераций). Затем с помощью обученной модели был построен график с результатом аппроксимации. При визуальном сравнении графики имеют сходство.\n",
    "\n",
    "Подбором было обнаружено, что добавление дополнительных слоев в нейронную сеть, увеличение количества нейронов, эпох, размера обучающей выборки не давало заметного улучшения результата, однако увеличивало время обучения."
   ],
   "metadata": {
    "collapsed": false
   }
  }
 ],
 "metadata": {
  "kernelspec": {
   "display_name": "Python 3",
   "language": "python",
   "name": "python3"
  },
  "language_info": {
   "codemirror_mode": {
    "name": "ipython",
    "version": 2
   },
   "file_extension": ".py",
   "mimetype": "text/x-python",
   "name": "python",
   "nbconvert_exporter": "python",
   "pygments_lexer": "ipython2",
   "version": "2.7.6"
  }
 },
 "nbformat": 4,
 "nbformat_minor": 0
}
